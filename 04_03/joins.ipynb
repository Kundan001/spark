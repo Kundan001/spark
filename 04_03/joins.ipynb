{
  "nbformat": 4,
  "nbformat_minor": 0,
  "metadata": {
    "colab": {
      "name": "joins.ipynb",
      "version": "0.3.2",
      "provenance": [],
      "collapsed_sections": [],
      "include_colab_link": true
    },
    "kernelspec": {
      "display_name": "Python 3",
      "language": "python",
      "name": "python3"
    }
  },
  "cells": [
    {
      "cell_type": "markdown",
      "metadata": {
        "id": "view-in-github",
        "colab_type": "text"
      },
      "source": [
        "<a href=\"https://colab.research.google.com/github/kaushikbar/spark/blob/master/04_03/joins.ipynb\" target=\"_parent\"><img src=\"https://colab.research.google.com/assets/colab-badge.svg\" alt=\"Open In Colab\"/></a>"
      ]
    },
    {
      "metadata": {
        "colab_type": "text",
        "id": "8qf-TmnsBgXd"
      },
      "cell_type": "markdown",
      "source": [
        "# Working with joins"
      ]
    },
    {
      "metadata": {
        "colab_type": "text",
        "id": "Dd6t0uFzuR4X"
      },
      "cell_type": "markdown",
      "source": [
        "## Download and install Spark"
      ]
    },
    {
      "metadata": {
        "colab_type": "code",
        "id": "zToS5PqxBXpK",
        "colab": {
          "base_uri": "https://localhost:8080/",
          "height": 121
        },
        "outputId": "bdbdc463-8987-4111-89fb-98e705b95879"
      },
      "cell_type": "code",
      "source": [
        "!ls -l"
      ],
      "execution_count": 1,
      "outputs": [
        {
          "output_type": "stream",
          "text": [
            "total 1794056\n",
            "-rw-r--r--  1 root root 1611195908 Mar 31 05:01 reported-crimes.csv\n",
            "drwxr-xr-x  1 root root       4096 Mar 27 20:26 sample_data\n",
            "drwxrwxr-x 13 1000 1000       4096 Jun  1  2018 spark-2.3.1-bin-hadoop2.7\n",
            "-rw-r--r--  1 root root  225883783 Jun  1  2018 spark-2.3.1-bin-hadoop2.7.tgz\n",
            "drwxr-xr-x  2 root root       4096 Mar 31 05:02 spark-warehouse\n"
          ],
          "name": "stdout"
        }
      ]
    },
    {
      "metadata": {
        "colab_type": "code",
        "id": "tt7ZS1_wGgjn",
        "colab": {}
      },
      "cell_type": "code",
      "source": [
        "#!apt-get update\n",
        "#!apt-get install openjdk-8-jdk-headless -qq > /dev/null\n",
        "#!wget -q http://archive.apache.org/dist/spark/spark-2.3.1/spark-2.3.1-bin-hadoop2.7.tgz\n",
        "#!tar xf spark-2.3.1-bin-hadoop2.7.tgz\n",
        "#!pip install -q findspark"
      ],
      "execution_count": 0,
      "outputs": []
    },
    {
      "metadata": {
        "colab_type": "text",
        "id": "FEuEkV0BlzAD"
      },
      "cell_type": "markdown",
      "source": [
        "## Setup environment"
      ]
    },
    {
      "metadata": {
        "colab_type": "code",
        "id": "sdOOq4twHN1K",
        "colab": {
          "base_uri": "https://localhost:8080/",
          "height": 219
        },
        "outputId": "cce7d918-8144-4721-b56a-700372797995"
      },
      "cell_type": "code",
      "source": [
        "import os\n",
        "os.environ[\"JAVA_HOME\"] = \"/usr/lib/jvm/java-8-openjdk-amd64\"\n",
        "os.environ[\"SPARK_HOME\"] = \"/content/spark-2.3.1-bin-hadoop2.7\"\n",
        "\n",
        "import findspark\n",
        "findspark.init()\n",
        "from pyspark import SparkContext\n",
        "sc = SparkContext.getOrCreate()\n",
        "\n",
        "import pyspark\n",
        "from pyspark.sql import SparkSession\n",
        "spark = SparkSession.builder.getOrCreate() \n",
        "spark"
      ],
      "execution_count": 2,
      "outputs": [
        {
          "output_type": "execute_result",
          "data": {
            "text/html": [
              "\n",
              "            <div>\n",
              "                <p><b>SparkSession - in-memory</b></p>\n",
              "                \n",
              "        <div>\n",
              "            <p><b>SparkContext</b></p>\n",
              "\n",
              "            <p><a href=\"http://225ce0cb2695:4047\">Spark UI</a></p>\n",
              "\n",
              "            <dl>\n",
              "              <dt>Version</dt>\n",
              "                <dd><code>v2.3.1</code></dd>\n",
              "              <dt>Master</dt>\n",
              "                <dd><code>local[*]</code></dd>\n",
              "              <dt>AppName</dt>\n",
              "                <dd><code>pyspark-shell</code></dd>\n",
              "            </dl>\n",
              "        </div>\n",
              "        \n",
              "            </div>\n",
              "        "
            ],
            "text/plain": [
              "<pyspark.sql.session.SparkSession at 0x7f0b35d5a908>"
            ]
          },
          "metadata": {
            "tags": []
          },
          "execution_count": 2
        }
      ]
    },
    {
      "metadata": {
        "colab_type": "text",
        "id": "0ysUlfFrN5OD"
      },
      "cell_type": "markdown",
      "source": [
        "## Downloading and preprocessing Chicago's Reported Crime Data"
      ]
    },
    {
      "metadata": {
        "colab_type": "code",
        "id": "FDtw5Hy3N-pV",
        "colab": {}
      },
      "cell_type": "code",
      "source": [
        "#!wget https://data.cityofchicago.org/api/views/ijzp-q8t2/rows.csv?accessType=DOWNLOAD\n",
        "#!ls -l"
      ],
      "execution_count": 0,
      "outputs": []
    },
    {
      "metadata": {
        "colab_type": "code",
        "id": "v4P5mMONYyVd",
        "colab": {}
      },
      "cell_type": "code",
      "source": [
        "#!mv rows.csv\\?accessType\\=DOWNLOAD reported-crimes.csv\n",
        "#!ls -l"
      ],
      "execution_count": 0,
      "outputs": []
    },
    {
      "metadata": {
        "colab_type": "code",
        "id": "9-1cK0nPNS95",
        "colab": {
          "base_uri": "https://localhost:8080/",
          "height": 228
        },
        "outputId": "7db760d8-f7c4-45cc-cbde-307291bb0212"
      },
      "cell_type": "code",
      "source": [
        "from pyspark.sql.functions import to_timestamp,col,lit\n",
        "rc = spark.read.csv('reported-crimes.csv',header=True).withColumn('Date',to_timestamp(col('Date'),'MM/dd/yyyy hh:mm:ss a')).filter(col('Date') <= lit('2018-11-11'))\n",
        "rc.show(5)"
      ],
      "execution_count": 3,
      "outputs": [
        {
          "output_type": "stream",
          "text": [
            "+-------+-----------+-------------------+--------------------+----+-----------------+-----------------+--------------------+------+--------+----+--------+----+--------------+--------+------------+------------+----+--------------------+------------+-------------+--------------------+\n",
            "|     ID|Case Number|               Date|               Block|IUCR|     Primary Type|      Description|Location Description|Arrest|Domestic|Beat|District|Ward|Community Area|FBI Code|X Coordinate|Y Coordinate|Year|          Updated On|    Latitude|    Longitude|            Location|\n",
            "+-------+-----------+-------------------+--------------------+----+-----------------+-----------------+--------------------+------+--------+----+--------+----+--------------+--------+------------+------------+----+--------------------+------------+-------------+--------------------+\n",
            "|4968078|   HM580684|2006-09-04 09:32:56| 005XX S FRANKLIN ST|1350|CRIMINAL TRESPASS|TO STATE SUP LAND|               OTHER|  true|   false|0131|     001|   2|            32|      26|     1174400|     1897964|2006|02/28/2018 03:56:...| 41.87541334|-87.635133029|(41.87541334, -87...|\n",
            "|4968080|   HM577323|2006-08-31 20:30:00| 085XX S ASHLAND AVE|0850|            THEFT|    ATTEMPT THEFT|            SIDEWALK| false|   false|0614|     006|  18|            71|      06|     1167159|     1848187|2006|02/28/2018 03:56:...|41.738978222|-87.663144179|(41.738978222, -8...|\n",
            "|4968082|   HM579928|2006-09-03 04:30:00| 022XX N ASHLAND AVE|0460|          BATTERY|           SIMPLE|            SIDEWALK| false|   false|1811|     018|  32|             7|     08B|     1165200|     1915072|2006|02/28/2018 03:56:...|41.922559314|-87.668424879|(41.922559314, -8...|\n",
            "|4968084|   HM580630|2006-09-03 22:30:00|   020XX W BARRY AVE|0890|            THEFT|    FROM BUILDING|    RESIDENCE-GARAGE| false|   false|1913|     019|  32|             5|      06|     1162231|     1920581|2006|02/28/2018 03:56:...|41.937739008|-87.679179468|(41.937739008, -8...|\n",
            "|4968087|   HM582294|2006-09-05 00:00:00|059XX N HERMITAGE...|0810|            THEFT|        OVER $500|              STREET| false|   false|2012|     020|  40|            77|      06|     1163731|     1939261|2006|02/28/2018 03:56:...|  41.9889662|-87.673137734|(41.9889662, -87....|\n",
            "+-------+-----------+-------------------+--------------------+----+-----------------+-----------------+--------------------+------+--------+----+--------+----+--------------+--------+------------+------------+----+--------------------+------------+-------------+--------------------+\n",
            "only showing top 5 rows\n",
            "\n"
          ],
          "name": "stdout"
        }
      ]
    },
    {
      "metadata": {
        "colab_type": "text",
        "id": "mI_zYOVpf2yK"
      },
      "cell_type": "markdown",
      "source": [
        "## Joins"
      ]
    },
    {
      "metadata": {
        "colab_type": "text",
        "id": "5klVM9jJZBDl"
      },
      "cell_type": "markdown",
      "source": [
        "**Download police station data**"
      ]
    },
    {
      "metadata": {
        "colab_type": "code",
        "id": "808f1HzwgDyh",
        "colab": {
          "base_uri": "https://localhost:8080/",
          "height": 225
        },
        "outputId": "6b4ec332-f469-434f-ec59-723ded902f37"
      },
      "cell_type": "code",
      "source": [
        "!wget -O police-station.csv https://data.cityofchicago.org/api/views/z8bn-74gv/rows.csv?accessType=DOWNLOAD"
      ],
      "execution_count": 4,
      "outputs": [
        {
          "output_type": "stream",
          "text": [
            "--2019-03-31 12:05:40--  https://data.cityofchicago.org/api/views/z8bn-74gv/rows.csv?accessType=DOWNLOAD\n",
            "Resolving data.cityofchicago.org (data.cityofchicago.org)... 52.206.140.199, 52.206.68.26, 52.206.140.205\n",
            "Connecting to data.cityofchicago.org (data.cityofchicago.org)|52.206.140.199|:443... connected.\n",
            "HTTP request sent, awaiting response... 200 OK\n",
            "Length: unspecified [text/csv]\n",
            "Saving to: ‘police-station.csv’\n",
            "\n",
            "\rpolice-station.csv      [<=>                 ]       0  --.-KB/s               \rpolice-station.csv      [ <=>                ]   5.57K  --.-KB/s    in 0s      \n",
            "\n",
            "Last-modified header invalid -- time-stamp ignored.\n",
            "2019-03-31 12:05:41 (277 MB/s) - ‘police-station.csv’ saved [5699]\n",
            "\n"
          ],
          "name": "stdout"
        }
      ]
    },
    {
      "metadata": {
        "colab_type": "code",
        "id": "qLS_NEpEgDBJ",
        "colab": {
          "base_uri": "https://localhost:8080/",
          "height": 139
        },
        "outputId": "281ef2f8-4f14-4ed8-9440-0ab9fb17bd5f"
      },
      "cell_type": "code",
      "source": [
        "!ls -l"
      ],
      "execution_count": 5,
      "outputs": [
        {
          "output_type": "stream",
          "text": [
            "total 1794068\n",
            "-rw-r--r--  1 root root       5699 Mar 31 12:05 police-station.csv\n",
            "-rw-r--r--  1 root root 1611195908 Mar 31 05:01 reported-crimes.csv\n",
            "drwxr-xr-x  1 root root       4096 Mar 27 20:26 sample_data\n",
            "drwxrwxr-x 13 1000 1000       4096 Jun  1  2018 spark-2.3.1-bin-hadoop2.7\n",
            "-rw-r--r--  1 root root  225883783 Jun  1  2018 spark-2.3.1-bin-hadoop2.7.tgz\n",
            "drwxr-xr-x  2 root root       4096 Mar 31 05:02 spark-warehouse\n"
          ],
          "name": "stdout"
        }
      ]
    },
    {
      "metadata": {
        "colab_type": "code",
        "id": "3-igLcB-wyWG",
        "colab": {
          "base_uri": "https://localhost:8080/",
          "height": 228
        },
        "outputId": "65e72694-b959-429f-b689-8ccfa534aaec"
      },
      "cell_type": "code",
      "source": [
        "ps = spark.read.csv('police-station.csv', header=True)\n",
        "ps.show(5)"
      ],
      "execution_count": 6,
      "outputs": [
        {
          "output_type": "stream",
          "text": [
            "+--------+--------------+--------------------+-------+-----+-----+--------------------+------------+------------+------------+------------+------------+-----------+------------+--------------------+\n",
            "|DISTRICT| DISTRICT NAME|             ADDRESS|   CITY|STATE|  ZIP|             WEBSITE|       PHONE|         FAX|         TTY|X COORDINATE|Y COORDINATE|   LATITUDE|   LONGITUDE|            LOCATION|\n",
            "+--------+--------------+--------------------+-------+-----+-----+--------------------+------------+------------+------------+------------+------------+-----------+------------+--------------------+\n",
            "|       1|       Central|     1718 S State St|Chicago|   IL|60616|http://home.chica...|312-745-4290|312-745-3694|312-745-3693| 1176569.052| 1891771.704|41.85837259|-87.62735617|(41.8583725929, -...|\n",
            "|       2|     Wentworth|5101 S Wentworth Ave|Chicago|   IL|60609|http://home.chica...|312-747-8366|312-747-5396|312-747-6656| 1175864.837| 1871153.753|41.80181109|-87.63056018|(41.8018110912, -...|\n",
            "|       3|Grand Crossing|7040 S Cottage Gr...|Chicago|   IL|60637|http://home.chica...|312-747-8201|312-747-5479|312-747-9168| 1182739.183| 1858317.732|41.76643089|-87.60574786|(41.7664308925, -...|\n",
            "|       4| South Chicago|     2255 E 103rd St|Chicago|   IL|60617|http://home.chica...|312-747-7581|312-747-5276|312-747-9169| 1193131.299| 1837090.265|41.70793329|-87.56834912|(41.7079332906, -...|\n",
            "|       5|       Calumet|      727 E 111th St|Chicago|   IL|60628|http://home.chica...|312-747-8210|312-747-5935|312-747-9170| 1183305.427| 1831462.313|41.69272336|-87.60450587|(41.6927233639, -...|\n",
            "+--------+--------------+--------------------+-------+-----+-----+--------------------+------------+------------+------------+------------+------------+-----------+------------+--------------------+\n",
            "only showing top 5 rows\n",
            "\n"
          ],
          "name": "stdout"
        }
      ]
    },
    {
      "metadata": {
        "colab_type": "code",
        "id": "Wz8D-NF2wyQb",
        "colab": {}
      },
      "cell_type": "code",
      "source": [
        ""
      ],
      "execution_count": 0,
      "outputs": []
    },
    {
      "metadata": {
        "colab_type": "text",
        "id": "CdBqB9Oiw0gV"
      },
      "cell_type": "markdown",
      "source": [
        "**The reported crimes dataset has only the district number. Add the district name by joining with the police station dataset**"
      ]
    },
    {
      "metadata": {
        "colab_type": "code",
        "id": "3HBJev2Ctdbo",
        "colab": {
          "base_uri": "https://localhost:8080/",
          "height": 34
        },
        "outputId": "822f1144-70ef-44bb-ae3a-3093ca7717ea"
      },
      "cell_type": "code",
      "source": [
        "# Cache the original dataset in order to speed up things. \n",
        "# Please do remember to run an action after cache for the caching to take place, because the cache command is lazily evaluated.\n",
        "rc.cache().count()"
      ],
      "execution_count": 7,
      "outputs": [
        {
          "output_type": "execute_result",
          "data": {
            "text/plain": [
              "6749332"
            ]
          },
          "metadata": {
            "tags": []
          },
          "execution_count": 7
        }
      ]
    },
    {
      "metadata": {
        "colab_type": "code",
        "id": "GP90Bm-lc52-",
        "colab": {
          "base_uri": "https://localhost:8080/",
          "height": 521
        },
        "outputId": "07c2fad4-99ba-4f55-8ab6-09896ea191f6"
      },
      "cell_type": "code",
      "source": [
        "ps.select(col('DISTRICT')).distinct().show(30)"
      ],
      "execution_count": 8,
      "outputs": [
        {
          "output_type": "stream",
          "text": [
            "+--------------------+\n",
            "|            DISTRICT|\n",
            "+--------------------+\n",
            "|                   7|\n",
            "|                  15|\n",
            "|                  11|\n",
            "|                   3|\n",
            "|                   8|\n",
            "|                  22|\n",
            "|                  16|\n",
            "|                   5|\n",
            "|                  18|\n",
            "|                  17|\n",
            "|                   6|\n",
            "|                  19|\n",
            "|                  25|\n",
            "|        Headquarters|\n",
            "|                   9|\n",
            "|                  24|\n",
            "|                   1|\n",
            "|                  20|\n",
            "|                  10|\n",
            "|                   4|\n",
            "|                  12|\n",
            "|                  14|\n",
            "|                   2|\n",
            "|\",Chicago,IL,6060...|\n",
            "+--------------------+\n",
            "\n"
          ],
          "name": "stdout"
        }
      ]
    },
    {
      "metadata": {
        "colab_type": "code",
        "id": "zbdoVA6Gc6mG",
        "colab": {
          "base_uri": "https://localhost:8080/",
          "height": 538
        },
        "outputId": "f6d5c23f-4892-481c-b938-98ea1317373c"
      },
      "cell_type": "code",
      "source": [
        "rc.select(col('District')).distinct().show(30)"
      ],
      "execution_count": 9,
      "outputs": [
        {
          "output_type": "stream",
          "text": [
            "+--------+\n",
            "|District|\n",
            "+--------+\n",
            "|     009|\n",
            "|     012|\n",
            "|     024|\n",
            "|    null|\n",
            "|     031|\n",
            "|     015|\n",
            "|     006|\n",
            "|     019|\n",
            "|     020|\n",
            "|     011|\n",
            "|     025|\n",
            "|     005|\n",
            "|     003|\n",
            "|     016|\n",
            "|     018|\n",
            "|     008|\n",
            "|     022|\n",
            "|     001|\n",
            "|     014|\n",
            "|     010|\n",
            "|     004|\n",
            "|     017|\n",
            "|     007|\n",
            "|     021|\n",
            "|     002|\n",
            "+--------+\n",
            "\n"
          ],
          "name": "stdout"
        }
      ]
    },
    {
      "metadata": {
        "colab_type": "code",
        "id": "V06UpJ4Tc7oJ",
        "colab": {}
      },
      "cell_type": "code",
      "source": [
        "from pyspark.sql.functions import lpad"
      ],
      "execution_count": 0,
      "outputs": []
    },
    {
      "metadata": {
        "colab_type": "code",
        "id": "S_YiRfSgc7em",
        "colab": {
          "base_uri": "https://localhost:8080/",
          "height": 208
        },
        "outputId": "cc2fbfbd-ec9e-4584-e713-5f44933632c2"
      },
      "cell_type": "code",
      "source": [
        "help(lpad)"
      ],
      "execution_count": 11,
      "outputs": [
        {
          "output_type": "stream",
          "text": [
            "Help on function lpad in module pyspark.sql.functions:\n",
            "\n",
            "lpad(col, len, pad)\n",
            "    Left-pad the string column to width `len` with `pad`.\n",
            "    \n",
            "    >>> df = spark.createDataFrame([('abcd',)], ['s',])\n",
            "    >>> df.select(lpad(df.s, 6, '#').alias('s')).collect()\n",
            "    [Row(s='##abcd')]\n",
            "    \n",
            "    .. versionadded:: 1.5\n",
            "\n"
          ],
          "name": "stdout"
        }
      ]
    },
    {
      "metadata": {
        "colab_type": "code",
        "id": "nWQMpWQec7SO",
        "colab": {
          "base_uri": "https://localhost:8080/",
          "height": 469
        },
        "outputId": "0aedd250-04a6-4689-c232-f1d00cbe7cbc"
      },
      "cell_type": "code",
      "source": [
        "ps.select(lpad(col('DISTRICT'),3,'0')).show()"
      ],
      "execution_count": 12,
      "outputs": [
        {
          "output_type": "stream",
          "text": [
            "+--------------------+\n",
            "|lpad(DISTRICT, 3, 0)|\n",
            "+--------------------+\n",
            "|                 001|\n",
            "|                 002|\n",
            "|                 003|\n",
            "|                 004|\n",
            "|                 005|\n",
            "|                 006|\n",
            "|                 007|\n",
            "|                 008|\n",
            "|                 009|\n",
            "|                 010|\n",
            "|                 011|\n",
            "|                 012|\n",
            "|                 \",C|\n",
            "|                 014|\n",
            "|                 015|\n",
            "|                 016|\n",
            "|                 017|\n",
            "|                 018|\n",
            "|                 019|\n",
            "|                 020|\n",
            "+--------------------+\n",
            "only showing top 20 rows\n",
            "\n"
          ],
          "name": "stdout"
        }
      ]
    },
    {
      "metadata": {
        "colab_type": "code",
        "id": "n4eBu-vMc6bN",
        "colab": {
          "base_uri": "https://localhost:8080/",
          "height": 228
        },
        "outputId": "3d94039d-5be4-4d2a-d18c-fc2a8d9d98e4"
      },
      "cell_type": "code",
      "source": [
        "ps = ps.withColumn('Format_district', lpad(col('DISTRICT'),3,'0'))\n",
        "ps.show(5)"
      ],
      "execution_count": 13,
      "outputs": [
        {
          "output_type": "stream",
          "text": [
            "+--------+--------------+--------------------+-------+-----+-----+--------------------+------------+------------+------------+------------+------------+-----------+------------+--------------------+---------------+\n",
            "|DISTRICT| DISTRICT NAME|             ADDRESS|   CITY|STATE|  ZIP|             WEBSITE|       PHONE|         FAX|         TTY|X COORDINATE|Y COORDINATE|   LATITUDE|   LONGITUDE|            LOCATION|Format_district|\n",
            "+--------+--------------+--------------------+-------+-----+-----+--------------------+------------+------------+------------+------------+------------+-----------+------------+--------------------+---------------+\n",
            "|       1|       Central|     1718 S State St|Chicago|   IL|60616|http://home.chica...|312-745-4290|312-745-3694|312-745-3693| 1176569.052| 1891771.704|41.85837259|-87.62735617|(41.8583725929, -...|            001|\n",
            "|       2|     Wentworth|5101 S Wentworth Ave|Chicago|   IL|60609|http://home.chica...|312-747-8366|312-747-5396|312-747-6656| 1175864.837| 1871153.753|41.80181109|-87.63056018|(41.8018110912, -...|            002|\n",
            "|       3|Grand Crossing|7040 S Cottage Gr...|Chicago|   IL|60637|http://home.chica...|312-747-8201|312-747-5479|312-747-9168| 1182739.183| 1858317.732|41.76643089|-87.60574786|(41.7664308925, -...|            003|\n",
            "|       4| South Chicago|     2255 E 103rd St|Chicago|   IL|60617|http://home.chica...|312-747-7581|312-747-5276|312-747-9169| 1193131.299| 1837090.265|41.70793329|-87.56834912|(41.7079332906, -...|            004|\n",
            "|       5|       Calumet|      727 E 111th St|Chicago|   IL|60628|http://home.chica...|312-747-8210|312-747-5935|312-747-9170| 1183305.427| 1831462.313|41.69272336|-87.60450587|(41.6927233639, -...|            005|\n",
            "+--------+--------------+--------------------+-------+-----+-----+--------------------+------------+------------+------------+------------+------------+-----------+------------+--------------------+---------------+\n",
            "only showing top 5 rows\n",
            "\n"
          ],
          "name": "stdout"
        }
      ]
    },
    {
      "metadata": {
        "colab_type": "code",
        "id": "8CR9XUeCc6Tn",
        "colab": {
          "base_uri": "https://localhost:8080/",
          "height": 228
        },
        "outputId": "51b434aa-2326-45f1-a3d9-341117bebfe1"
      },
      "cell_type": "code",
      "source": [
        "rc.join(ps, rc.District==ps.Format_district, 'left_outer').show(5)"
      ],
      "execution_count": 15,
      "outputs": [
        {
          "output_type": "stream",
          "text": [
            "+-------+-----------+-------------------+--------------------+----+-----------------+-----------------+--------------------+------+--------+----+--------+----+--------------+--------+------------+------------+----+--------------------+------------+-------------+--------------------+--------+-------------+------------------+-------+-----+-----+--------------------+------------+------------+------------+------------+------------+-----------+------------+--------------------+---------------+\n",
            "|     ID|Case Number|               Date|               Block|IUCR|     Primary Type|      Description|Location Description|Arrest|Domestic|Beat|District|Ward|Community Area|FBI Code|X Coordinate|Y Coordinate|Year|          Updated On|    Latitude|    Longitude|            Location|DISTRICT|DISTRICT NAME|           ADDRESS|   CITY|STATE|  ZIP|             WEBSITE|       PHONE|         FAX|         TTY|X COORDINATE|Y COORDINATE|   LATITUDE|   LONGITUDE|            LOCATION|Format_district|\n",
            "+-------+-----------+-------------------+--------------------+----+-----------------+-----------------+--------------------+------+--------+----+--------+----+--------------+--------+------------+------------+----+--------------------+------------+-------------+--------------------+--------+-------------+------------------+-------+-----+-----+--------------------+------------+------------+------------+------------+------------+-----------+------------+--------------------+---------------+\n",
            "|4968078|   HM580684|2006-09-04 09:32:56| 005XX S FRANKLIN ST|1350|CRIMINAL TRESPASS|TO STATE SUP LAND|               OTHER|  true|   false|0131|     001|   2|            32|      26|     1174400|     1897964|2006|02/28/2018 03:56:...| 41.87541334|-87.635133029|(41.87541334, -87...|       1|      Central|   1718 S State St|Chicago|   IL|60616|http://home.chica...|312-745-4290|312-745-3694|312-745-3693| 1176569.052| 1891771.704|41.85837259|-87.62735617|(41.8583725929, -...|            001|\n",
            "|4968080|   HM577323|2006-08-31 20:30:00| 085XX S ASHLAND AVE|0850|            THEFT|    ATTEMPT THEFT|            SIDEWALK| false|   false|0614|     006|  18|            71|      06|     1167159|     1848187|2006|02/28/2018 03:56:...|41.738978222|-87.663144179|(41.738978222, -8...|       6|      Gresham| 7808 S Halsted St|Chicago|   IL|60620|http://home.chica...|312-745-3617|312-745-3649|312-745-3639| 1172283.013| 1853022.646|41.75213684|-87.64422891|(41.7521368378, -...|            006|\n",
            "|4968082|   HM579928|2006-09-03 04:30:00| 022XX N ASHLAND AVE|0460|          BATTERY|           SIMPLE|            SIDEWALK| false|   false|1811|     018|  32|             7|     08B|     1165200|     1915072|2006|02/28/2018 03:56:...|41.922559314|-87.668424879|(41.922559314, -8...|      18|   Near North|1160 N Larrabee St|Chicago|   IL|60610|http://home.chica...|312-742-5870|312-742-5771|312-742-5773| 1172080.029| 1908086.527|41.90324165|-87.64335214|(41.9032416531, -...|            018|\n",
            "|4968084|   HM580630|2006-09-03 22:30:00|   020XX W BARRY AVE|0890|            THEFT|    FROM BUILDING|    RESIDENCE-GARAGE| false|   false|1913|     019|  32|             5|      06|     1162231|     1920581|2006|02/28/2018 03:56:...|41.937739008|-87.679179468|(41.937739008, -8...|      19|    Town Hall|  850 W Addison St|Chicago|   IL|60613|http://home.chica...|312-744-8320|312-744-4481|312-744-8011| 1169730.744| 1924160.317|41.94740046|-87.65151202|(41.9474004564, -...|            019|\n",
            "|4968087|   HM582294|2006-09-05 00:00:00|059XX N HERMITAGE...|0810|            THEFT|        OVER $500|              STREET| false|   false|2012|     020|  40|            77|      06|     1163731|     1939261|2006|02/28/2018 03:56:...|  41.9889662|-87.673137734|(41.9889662, -87....|      20|      Lincoln|5400 N Lincoln Ave|Chicago|   IL|60625|http://home.chica...|312-742-8714|312-742-8803|312-742-8841| 1158399.146| 1935788.826|41.97954951|-87.69284451|(41.9795495131, -...|            020|\n",
            "+-------+-----------+-------------------+--------------------+----+-----------------+-----------------+--------------------+------+--------+----+--------+----+--------------+--------+------------+------------+----+--------------------+------------+-------------+--------------------+--------+-------------+------------------+-------+-----+-----+--------------------+------------+------------+------------+------------+------------+-----------+------------+--------------------+---------------+\n",
            "only showing top 5 rows\n",
            "\n"
          ],
          "name": "stdout"
        }
      ]
    },
    {
      "metadata": {
        "colab_type": "code",
        "id": "PxL3DKpPc6KG",
        "colab": {
          "base_uri": "https://localhost:8080/",
          "height": 295
        },
        "outputId": "8b50a6c4-a048-4fa8-9807-68c60e197a24"
      },
      "cell_type": "code",
      "source": [
        "ps.columns"
      ],
      "execution_count": 16,
      "outputs": [
        {
          "output_type": "execute_result",
          "data": {
            "text/plain": [
              "['DISTRICT',\n",
              " 'DISTRICT NAME',\n",
              " 'ADDRESS',\n",
              " 'CITY',\n",
              " 'STATE',\n",
              " 'ZIP',\n",
              " 'WEBSITE',\n",
              " 'PHONE',\n",
              " 'FAX',\n",
              " 'TTY',\n",
              " 'X COORDINATE',\n",
              " 'Y COORDINATE',\n",
              " 'LATITUDE',\n",
              " 'LONGITUDE',\n",
              " 'LOCATION',\n",
              " 'Format_district']"
            ]
          },
          "metadata": {
            "tags": []
          },
          "execution_count": 16
        }
      ]
    },
    {
      "metadata": {
        "id": "m5nfHnGk1DSd",
        "colab_type": "code",
        "colab": {
          "base_uri": "https://localhost:8080/",
          "height": 228
        },
        "outputId": "c6266fa0-afc2-44f0-d18f-4d54f1c6f916"
      },
      "cell_type": "code",
      "source": [
        "rc.join(ps, rc.District==ps.Format_district, 'left_outer').drop(\n",
        " 'ADDRESS',\n",
        " 'CITY',\n",
        " 'STATE',\n",
        " 'ZIP',\n",
        " 'WEBSITE',\n",
        " 'PHONE',\n",
        " 'FAX',\n",
        " 'TTY',\n",
        " 'X COORDINATE',\n",
        " 'Y COORDINATE',\n",
        " 'LATITUDE',\n",
        " 'LONGITUDE',\n",
        " 'LOCATION').show(5)"
      ],
      "execution_count": 18,
      "outputs": [
        {
          "output_type": "stream",
          "text": [
            "+-------+-----------+-------------------+--------------------+----+-----------------+-----------------+--------------------+------+--------+----+--------+----+--------------+--------+----+--------------------+--------+-------------+---------------+\n",
            "|     ID|Case Number|               Date|               Block|IUCR|     Primary Type|      Description|Location Description|Arrest|Domestic|Beat|District|Ward|Community Area|FBI Code|Year|          Updated On|DISTRICT|DISTRICT NAME|Format_district|\n",
            "+-------+-----------+-------------------+--------------------+----+-----------------+-----------------+--------------------+------+--------+----+--------+----+--------------+--------+----+--------------------+--------+-------------+---------------+\n",
            "|4968078|   HM580684|2006-09-04 09:32:56| 005XX S FRANKLIN ST|1350|CRIMINAL TRESPASS|TO STATE SUP LAND|               OTHER|  true|   false|0131|     001|   2|            32|      26|2006|02/28/2018 03:56:...|       1|      Central|            001|\n",
            "|4968080|   HM577323|2006-08-31 20:30:00| 085XX S ASHLAND AVE|0850|            THEFT|    ATTEMPT THEFT|            SIDEWALK| false|   false|0614|     006|  18|            71|      06|2006|02/28/2018 03:56:...|       6|      Gresham|            006|\n",
            "|4968082|   HM579928|2006-09-03 04:30:00| 022XX N ASHLAND AVE|0460|          BATTERY|           SIMPLE|            SIDEWALK| false|   false|1811|     018|  32|             7|     08B|2006|02/28/2018 03:56:...|      18|   Near North|            018|\n",
            "|4968084|   HM580630|2006-09-03 22:30:00|   020XX W BARRY AVE|0890|            THEFT|    FROM BUILDING|    RESIDENCE-GARAGE| false|   false|1913|     019|  32|             5|      06|2006|02/28/2018 03:56:...|      19|    Town Hall|            019|\n",
            "|4968087|   HM582294|2006-09-05 00:00:00|059XX N HERMITAGE...|0810|            THEFT|        OVER $500|              STREET| false|   false|2012|     020|  40|            77|      06|2006|02/28/2018 03:56:...|      20|      Lincoln|            020|\n",
            "+-------+-----------+-------------------+--------------------+----+-----------------+-----------------+--------------------+------+--------+----+--------+----+--------------+--------+----+--------------------+--------+-------------+---------------+\n",
            "only showing top 5 rows\n",
            "\n"
          ],
          "name": "stdout"
        }
      ]
    },
    {
      "metadata": {
        "id": "pCOhsCXK1Ygu",
        "colab_type": "code",
        "colab": {}
      },
      "cell_type": "code",
      "source": [
        ""
      ],
      "execution_count": 0,
      "outputs": []
    }
  ]
}