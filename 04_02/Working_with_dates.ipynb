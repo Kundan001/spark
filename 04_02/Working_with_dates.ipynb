{
  "nbformat": 4,
  "nbformat_minor": 0,
  "metadata": {
    "colab": {
      "name": "Working_with_dates.ipynb",
      "version": "0.3.2",
      "provenance": [],
      "collapsed_sections": [],
      "include_colab_link": true
    },
    "kernelspec": {
      "display_name": "Python 3",
      "language": "python",
      "name": "python3"
    }
  },
  "cells": [
    {
      "cell_type": "markdown",
      "metadata": {
        "id": "view-in-github",
        "colab_type": "text"
      },
      "source": [
        "<a href=\"https://colab.research.google.com/github/kaushikbar/spark/blob/master/04_02/Working_with_dates.ipynb\" target=\"_parent\"><img src=\"https://colab.research.google.com/assets/colab-badge.svg\" alt=\"Open In Colab\"/></a>"
      ]
    },
    {
      "metadata": {
        "colab_type": "text",
        "id": "8qf-TmnsBgXd"
      },
      "cell_type": "markdown",
      "source": [
        "# Working with dates"
      ]
    },
    {
      "metadata": {
        "colab_type": "text",
        "id": "Dd6t0uFzuR4X"
      },
      "cell_type": "markdown",
      "source": [
        "## Download and install Spark"
      ]
    },
    {
      "metadata": {
        "colab_type": "code",
        "id": "zToS5PqxBXpK",
        "colab": {
          "base_uri": "https://localhost:8080/",
          "height": 52
        },
        "outputId": "aff17601-8602-4b5c-c0b8-a301e4d9ad8f"
      },
      "cell_type": "code",
      "source": [
        "!ls"
      ],
      "execution_count": 1,
      "outputs": [
        {
          "output_type": "stream",
          "text": [
            "reported-crimes.csv  spark-2.3.1-bin-hadoop2.7\t    spark-warehouse\n",
            "sample_data\t     spark-2.3.1-bin-hadoop2.7.tgz\n"
          ],
          "name": "stdout"
        }
      ]
    },
    {
      "metadata": {
        "colab_type": "code",
        "id": "tt7ZS1_wGgjn",
        "colab": {}
      },
      "cell_type": "code",
      "source": [
        "#!apt-get update\n",
        "#!apt-get install openjdk-8-jdk-headless -qq > /dev/null\n",
        "#!wget -q http://archive.apache.org/dist/spark/spark-2.3.1/spark-2.3.1-bin-hadoop2.7.tgz\n",
        "#!tar xf spark-2.3.1-bin-hadoop2.7.tgz\n",
        "#!pip install -q findspark"
      ],
      "execution_count": 0,
      "outputs": []
    },
    {
      "metadata": {
        "colab_type": "text",
        "id": "FEuEkV0BlzAD"
      },
      "cell_type": "markdown",
      "source": [
        "## Setup environment"
      ]
    },
    {
      "metadata": {
        "colab_type": "code",
        "id": "sdOOq4twHN1K",
        "colab": {
          "base_uri": "https://localhost:8080/",
          "height": 219
        },
        "outputId": "23590071-87dc-4e9e-e19c-a92f753eeaa1"
      },
      "cell_type": "code",
      "source": [
        "import os\n",
        "os.environ[\"JAVA_HOME\"] = \"/usr/lib/jvm/java-8-openjdk-amd64\"\n",
        "os.environ[\"SPARK_HOME\"] = \"/content/spark-2.3.1-bin-hadoop2.7\"\n",
        "\n",
        "import findspark\n",
        "findspark.init()\n",
        "from pyspark import SparkContext\n",
        "sc = SparkContext.getOrCreate()\n",
        "\n",
        "import pyspark\n",
        "from pyspark.sql import SparkSession\n",
        "spark = SparkSession.builder.getOrCreate() \n",
        "spark"
      ],
      "execution_count": 2,
      "outputs": [
        {
          "output_type": "execute_result",
          "data": {
            "text/html": [
              "\n",
              "            <div>\n",
              "                <p><b>SparkSession - in-memory</b></p>\n",
              "                \n",
              "        <div>\n",
              "            <p><b>SparkContext</b></p>\n",
              "\n",
              "            <p><a href=\"http://225ce0cb2695:4046\">Spark UI</a></p>\n",
              "\n",
              "            <dl>\n",
              "              <dt>Version</dt>\n",
              "                <dd><code>v2.3.1</code></dd>\n",
              "              <dt>Master</dt>\n",
              "                <dd><code>local[*]</code></dd>\n",
              "              <dt>AppName</dt>\n",
              "                <dd><code>pyspark-shell</code></dd>\n",
              "            </dl>\n",
              "        </div>\n",
              "        \n",
              "            </div>\n",
              "        "
            ],
            "text/plain": [
              "<pyspark.sql.session.SparkSession at 0x7ff79c9a8d30>"
            ]
          },
          "metadata": {
            "tags": []
          },
          "execution_count": 2
        }
      ]
    },
    {
      "metadata": {
        "colab_type": "text",
        "id": "0ysUlfFrN5OD"
      },
      "cell_type": "markdown",
      "source": [
        "## Downloading and preprocessing Chicago's Reported Crime Data"
      ]
    },
    {
      "metadata": {
        "colab_type": "code",
        "id": "FDtw5Hy3N-pV",
        "colab": {}
      },
      "cell_type": "code",
      "source": [
        "#!wget https://data.cityofchicago.org/api/views/ijzp-q8t2/rows.csv?accessType=DOWNLOAD\n",
        "#!ls -l"
      ],
      "execution_count": 0,
      "outputs": []
    },
    {
      "metadata": {
        "colab_type": "code",
        "id": "v4P5mMONYyVd",
        "colab": {}
      },
      "cell_type": "code",
      "source": [
        "#!mv rows.csv\\?accessType\\=DOWNLOAD reported-crimes.csv\n",
        "#!ls -l"
      ],
      "execution_count": 0,
      "outputs": []
    },
    {
      "metadata": {
        "colab_type": "code",
        "id": "9-1cK0nPNS95",
        "colab": {
          "base_uri": "https://localhost:8080/",
          "height": 228
        },
        "outputId": "3e894fa9-bbd5-4247-e1fa-41107a362c98"
      },
      "cell_type": "code",
      "source": [
        "from pyspark.sql.functions import to_timestamp,col,lit\n",
        "rc = spark.read.csv('reported-crimes.csv',header=True).withColumn('Date',to_timestamp(col('Date'),'MM/dd/yyyy hh:mm:ss a')).filter(col('Date') < lit('2018-11-12'))\n",
        "rc.show(5)"
      ],
      "execution_count": 3,
      "outputs": [
        {
          "output_type": "stream",
          "text": [
            "+-------+-----------+-------------------+--------------------+----+-----------------+-----------------+--------------------+------+--------+----+--------+----+--------------+--------+------------+------------+----+--------------------+------------+-------------+--------------------+\n",
            "|     ID|Case Number|               Date|               Block|IUCR|     Primary Type|      Description|Location Description|Arrest|Domestic|Beat|District|Ward|Community Area|FBI Code|X Coordinate|Y Coordinate|Year|          Updated On|    Latitude|    Longitude|            Location|\n",
            "+-------+-----------+-------------------+--------------------+----+-----------------+-----------------+--------------------+------+--------+----+--------+----+--------------+--------+------------+------------+----+--------------------+------------+-------------+--------------------+\n",
            "|4968078|   HM580684|2006-09-04 09:32:56| 005XX S FRANKLIN ST|1350|CRIMINAL TRESPASS|TO STATE SUP LAND|               OTHER|  true|   false|0131|     001|   2|            32|      26|     1174400|     1897964|2006|02/28/2018 03:56:...| 41.87541334|-87.635133029|(41.87541334, -87...|\n",
            "|4968080|   HM577323|2006-08-31 20:30:00| 085XX S ASHLAND AVE|0850|            THEFT|    ATTEMPT THEFT|            SIDEWALK| false|   false|0614|     006|  18|            71|      06|     1167159|     1848187|2006|02/28/2018 03:56:...|41.738978222|-87.663144179|(41.738978222, -8...|\n",
            "|4968082|   HM579928|2006-09-03 04:30:00| 022XX N ASHLAND AVE|0460|          BATTERY|           SIMPLE|            SIDEWALK| false|   false|1811|     018|  32|             7|     08B|     1165200|     1915072|2006|02/28/2018 03:56:...|41.922559314|-87.668424879|(41.922559314, -8...|\n",
            "|4968084|   HM580630|2006-09-03 22:30:00|   020XX W BARRY AVE|0890|            THEFT|    FROM BUILDING|    RESIDENCE-GARAGE| false|   false|1913|     019|  32|             5|      06|     1162231|     1920581|2006|02/28/2018 03:56:...|41.937739008|-87.679179468|(41.937739008, -8...|\n",
            "|4968087|   HM582294|2006-09-05 00:00:00|059XX N HERMITAGE...|0810|            THEFT|        OVER $500|              STREET| false|   false|2012|     020|  40|            77|      06|     1163731|     1939261|2006|02/28/2018 03:56:...|  41.9889662|-87.673137734|(41.9889662, -87....|\n",
            "+-------+-----------+-------------------+--------------------+----+-----------------+-----------------+--------------------+------+--------+----+--------+----+--------------+--------+------------+------------+----+--------------------+------------+-------------+--------------------+\n",
            "only showing top 5 rows\n",
            "\n"
          ],
          "name": "stdout"
        }
      ]
    },
    {
      "metadata": {
        "colab_type": "text",
        "id": "mI_zYOVpf2yK"
      },
      "cell_type": "markdown",
      "source": [
        "## Working with dates"
      ]
    },
    {
      "metadata": {
        "id": "f4TIVtthGCAv",
        "colab_type": "text"
      },
      "cell_type": "markdown",
      "source": [
        "https://docs.oracle.com/javase/8/docs/api/java/text/SimpleDateFormat.html"
      ]
    },
    {
      "metadata": {
        "id": "tNvTKjjKjtgz",
        "colab_type": "code",
        "colab": {}
      },
      "cell_type": "code",
      "source": [
        "from pyspark.sql.functions import to_date, to_timestamp, lit"
      ],
      "execution_count": 0,
      "outputs": []
    },
    {
      "metadata": {
        "colab_type": "code",
        "id": "9npwvNTx1SCj",
        "colab": {
          "base_uri": "https://localhost:8080/",
          "height": 139
        },
        "outputId": "c7bc48c8-8f54-48a7-e067-196178a9c9ed"
      },
      "cell_type": "code",
      "source": [
        "rc.select(to_date(lit('2017-12-25')), to_date(lit('2017-15-25'))).show(1)"
      ],
      "execution_count": 5,
      "outputs": [
        {
          "output_type": "stream",
          "text": [
            "+---------------------+---------------------+\n",
            "|to_date('2017-12-25')|to_date('2017-15-25')|\n",
            "+---------------------+---------------------+\n",
            "|           2017-12-25|                 null|\n",
            "+---------------------+---------------------+\n",
            "only showing top 1 row\n",
            "\n"
          ],
          "name": "stdout"
        }
      ]
    },
    {
      "metadata": {
        "colab_type": "code",
        "id": "eGGXo0tVQBc4",
        "colab": {
          "base_uri": "https://localhost:8080/",
          "height": 228
        },
        "outputId": "45afc11a-51be-4829-80a6-9f5f21ecee69"
      },
      "cell_type": "code",
      "source": [
        "raw_rc = spark.read.csv('reported-crimes.csv',header=True)\n",
        "raw_rc.show(5, truncate=False)"
      ],
      "execution_count": 20,
      "outputs": [
        {
          "output_type": "stream",
          "text": [
            "+-------+-----------+----------------------+---------------------+----+-----------------+-----------------+--------------------+------+--------+----+--------+----+--------------+--------+------------+------------+----+----------------------+------------+-------------+-----------------------------+\n",
            "|ID     |Case Number|Date                  |Block                |IUCR|Primary Type     |Description      |Location Description|Arrest|Domestic|Beat|District|Ward|Community Area|FBI Code|X Coordinate|Y Coordinate|Year|Updated On            |Latitude    |Longitude    |Location                     |\n",
            "+-------+-----------+----------------------+---------------------+----+-----------------+-----------------+--------------------+------+--------+----+--------+----+--------------+--------+------------+------------+----+----------------------+------------+-------------+-----------------------------+\n",
            "|4968078|HM580684   |09/04/2006 09:32:56 AM|005XX S FRANKLIN ST  |1350|CRIMINAL TRESPASS|TO STATE SUP LAND|OTHER               |true  |false   |0131|001     |2   |32            |26      |1174400     |1897964     |2006|02/28/2018 03:56:25 PM|41.87541334 |-87.635133029|(41.87541334, -87.635133029) |\n",
            "|4968080|HM577323   |08/31/2006 08:30:00 PM|085XX S ASHLAND AVE  |0850|THEFT            |ATTEMPT THEFT    |SIDEWALK            |false |false   |0614|006     |18  |71            |06      |1167159     |1848187     |2006|02/28/2018 03:56:25 PM|41.738978222|-87.663144179|(41.738978222, -87.663144179)|\n",
            "|4968082|HM579928   |09/03/2006 04:30:00 AM|022XX N ASHLAND AVE  |0460|BATTERY          |SIMPLE           |SIDEWALK            |false |false   |1811|018     |32  |7             |08B     |1165200     |1915072     |2006|02/28/2018 03:56:25 PM|41.922559314|-87.668424879|(41.922559314, -87.668424879)|\n",
            "|4968084|HM580630   |09/03/2006 10:30:00 PM|020XX W BARRY AVE    |0890|THEFT            |FROM BUILDING    |RESIDENCE-GARAGE    |false |false   |1913|019     |32  |5             |06      |1162231     |1920581     |2006|02/28/2018 03:56:25 PM|41.937739008|-87.679179468|(41.937739008, -87.679179468)|\n",
            "|4968087|HM582294   |09/05/2006 12:00:00 AM|059XX N HERMITAGE AVE|0810|THEFT            |OVER $500        |STREET              |false |false   |2012|020     |40  |77            |06      |1163731     |1939261     |2006|02/28/2018 03:56:25 PM|41.9889662  |-87.673137734|(41.9889662, -87.673137734)  |\n",
            "+-------+-----------+----------------------+---------------------+----+-----------------+-----------------+--------------------+------+--------+----+--------+----+--------------+--------+------------+------------+----+----------------------+------------+-------------+-----------------------------+\n",
            "only showing top 5 rows\n",
            "\n"
          ],
          "name": "stdout"
        }
      ]
    },
    {
      "metadata": {
        "id": "bF7L_Cz_mCb2",
        "colab_type": "code",
        "colab": {}
      },
      "cell_type": "code",
      "source": [
        ""
      ],
      "execution_count": 0,
      "outputs": []
    },
    {
      "metadata": {
        "colab_type": "text",
        "id": "WkUMZnY5yc6q"
      },
      "cell_type": "markdown",
      "source": [
        "  **2019-12-25 13:30:00**"
      ]
    },
    {
      "metadata": {
        "colab_type": "code",
        "id": "gC1spS8LhBtJ",
        "colab": {
          "base_uri": "https://localhost:8080/",
          "height": 121
        },
        "outputId": "434eb5f2-e7a3-4d6e-acda-25e41c9c8d5d"
      },
      "cell_type": "code",
      "source": [
        "df = spark.createDataFrame([('2019-12-25 13:30:00',)], ['Christmas'])\n",
        "df.show()\n"
      ],
      "execution_count": 10,
      "outputs": [
        {
          "output_type": "stream",
          "text": [
            "+-------------------+\n",
            "|          Christmas|\n",
            "+-------------------+\n",
            "|2019-12-25 13:30:00|\n",
            "+-------------------+\n",
            "\n"
          ],
          "name": "stdout"
        }
      ]
    },
    {
      "metadata": {
        "colab_type": "code",
        "id": "87RJNjRty-W7",
        "colab": {
          "base_uri": "https://localhost:8080/",
          "height": 121
        },
        "outputId": "2d05ff0e-3f97-4272-f707-4bf1944187fb"
      },
      "cell_type": "code",
      "source": [
        "df.select(to_date(col('Christmas'), 'yyyy-MM-dd HH:mm:ss'), to_timestamp(col('Christmas'), 'yyyy-MM-dd HH:mm:ss')).show()"
      ],
      "execution_count": 12,
      "outputs": [
        {
          "output_type": "stream",
          "text": [
            "+-------------------------------------------+------------------------------------------------+\n",
            "|to_date(`Christmas`, 'yyyy-MM-dd HH:mm:ss')|to_timestamp(`Christmas`, 'yyyy-MM-dd HH:mm:ss')|\n",
            "+-------------------------------------------+------------------------------------------------+\n",
            "|                                 2019-12-25|                             2019-12-25 13:30:00|\n",
            "+-------------------------------------------+------------------------------------------------+\n",
            "\n"
          ],
          "name": "stdout"
        }
      ]
    },
    {
      "metadata": {
        "colab_type": "code",
        "id": "YbSNtcMSQAiH",
        "colab": {}
      },
      "cell_type": "code",
      "source": [
        ""
      ],
      "execution_count": 0,
      "outputs": []
    },
    {
      "metadata": {
        "colab_type": "text",
        "id": "r57RvNLFy1qr"
      },
      "cell_type": "markdown",
      "source": [
        "**25/Dec/2019 13:30:00**"
      ]
    },
    {
      "metadata": {
        "colab_type": "code",
        "id": "qWSM7QZIy1O7",
        "colab": {
          "base_uri": "https://localhost:8080/",
          "height": 121
        },
        "outputId": "7085f011-c1e2-43e9-a229-0d3f65520230"
      },
      "cell_type": "code",
      "source": [
        "df = spark.createDataFrame([('25/Dec/2019 13:30:00',)], ['Christmas'])\n",
        "df.show()\n"
      ],
      "execution_count": 13,
      "outputs": [
        {
          "output_type": "stream",
          "text": [
            "+--------------------+\n",
            "|           Christmas|\n",
            "+--------------------+\n",
            "|25/Dec/2019 13:30:00|\n",
            "+--------------------+\n",
            "\n"
          ],
          "name": "stdout"
        }
      ]
    },
    {
      "metadata": {
        "colab_type": "code",
        "id": "_Bth-66Zy_na",
        "colab": {
          "base_uri": "https://localhost:8080/",
          "height": 121
        },
        "outputId": "04c073f8-0dd5-4fea-dfbe-75a8ce2d7951"
      },
      "cell_type": "code",
      "source": [
        "df.select(to_date(col('Christmas'), 'dd/MMM/yyyy HH:mm:ss'), to_timestamp(col('Christmas'), 'dd/MMM/yyyy HH:mm:ss')).show()"
      ],
      "execution_count": 14,
      "outputs": [
        {
          "output_type": "stream",
          "text": [
            "+--------------------------------------------+-------------------------------------------------+\n",
            "|to_date(`Christmas`, 'dd/MMM/yyyy HH:mm:ss')|to_timestamp(`Christmas`, 'dd/MMM/yyyy HH:mm:ss')|\n",
            "+--------------------------------------------+-------------------------------------------------+\n",
            "|                                  2019-12-25|                              2019-12-25 13:30:00|\n",
            "+--------------------------------------------+-------------------------------------------------+\n",
            "\n"
          ],
          "name": "stdout"
        }
      ]
    },
    {
      "metadata": {
        "colab_type": "code",
        "id": "oX5JKpxiy_dT",
        "colab": {}
      },
      "cell_type": "code",
      "source": [
        ""
      ],
      "execution_count": 0,
      "outputs": []
    },
    {
      "metadata": {
        "colab_type": "text",
        "id": "4DcjnoaKzBQr"
      },
      "cell_type": "markdown",
      "source": [
        "**12/25/2019 01:30:00 PM**"
      ]
    },
    {
      "metadata": {
        "colab_type": "code",
        "id": "WldJB29T80O2",
        "colab": {
          "base_uri": "https://localhost:8080/",
          "height": 121
        },
        "outputId": "e31edb6e-a822-4337-f9ea-9eff64a53452"
      },
      "cell_type": "code",
      "source": [
        "df = spark.createDataFrame([('12/25/2019 01:30:00 PM',)], ['Christmas'])\n",
        "df.show()"
      ],
      "execution_count": 15,
      "outputs": [
        {
          "output_type": "stream",
          "text": [
            "+--------------------+\n",
            "|           Christmas|\n",
            "+--------------------+\n",
            "|12/25/2019 01:30:...|\n",
            "+--------------------+\n",
            "\n"
          ],
          "name": "stdout"
        }
      ]
    },
    {
      "metadata": {
        "id": "R0WpyxBllaeM",
        "colab_type": "code",
        "colab": {
          "base_uri": "https://localhost:8080/",
          "height": 121
        },
        "outputId": "fa6cd549-cb73-4ac8-d7ff-3df68a4c4543"
      },
      "cell_type": "code",
      "source": [
        "df = spark.createDataFrame([('12/25/2019 01:30:00 PM',)], ['Christmas'])\n",
        "df.show(truncate=False)"
      ],
      "execution_count": 16,
      "outputs": [
        {
          "output_type": "stream",
          "text": [
            "+----------------------+\n",
            "|Christmas             |\n",
            "+----------------------+\n",
            "|12/25/2019 01:30:00 PM|\n",
            "+----------------------+\n",
            "\n"
          ],
          "name": "stdout"
        }
      ]
    },
    {
      "metadata": {
        "colab_type": "code",
        "id": "SqOg9qzQRAbi",
        "colab": {
          "base_uri": "https://localhost:8080/",
          "height": 121
        },
        "outputId": "5bc52b21-267c-4dca-e0fd-d38b969ed007"
      },
      "cell_type": "code",
      "source": [
        "df.select(to_date(col('Christmas'), 'MM/dd/yyyy hh:mm:ss aa'), to_timestamp(col('Christmas'), 'MM/dd/yyyy hh:mm:ss aa')).show()"
      ],
      "execution_count": 17,
      "outputs": [
        {
          "output_type": "stream",
          "text": [
            "+----------------------------------------------+---------------------------------------------------+\n",
            "|to_date(`Christmas`, 'MM/dd/yyyy hh:mm:ss aa')|to_timestamp(`Christmas`, 'MM/dd/yyyy hh:mm:ss aa')|\n",
            "+----------------------------------------------+---------------------------------------------------+\n",
            "|                                    2019-12-25|                                2019-12-25 13:30:00|\n",
            "+----------------------------------------------+---------------------------------------------------+\n",
            "\n"
          ],
          "name": "stdout"
        }
      ]
    }
  ]
}